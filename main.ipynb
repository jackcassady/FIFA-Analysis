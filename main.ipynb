{
 "cells": [
  {
   "cell_type": "code",
   "execution_count": 1,
   "metadata": {},
   "outputs": [],
   "source": [
    "import csv\n",
    "\n",
    "fifa_file = open('Fifa19.csv', encoding='utf-8')\n",
    "file_reader = csv.reader(fifa_file)\n",
    "player_data = list(file_reader)\n",
    "fifa_file.close()\n",
    "header = player_data[0]\n",
    "player_data = player_data[1:]\n",
    "for row in player_data:\n",
    "    for idx in [2,4]:\n",
    "        row[idx] = float(row[idx])"
   ]
  },
  {
   "cell_type": "code",
   "execution_count": 2,
   "metadata": {
    "scrolled": true
   },
   "outputs": [
    {
     "name": "stdout",
     "output_type": "stream",
     "text": [
      "['Id', 'Name', 'Age', 'Nationality', 'Overall', 'Club', 'Value', 'Wage', 'Preferred Foot', 'Jersey Number', 'Height', 'Weight']\n",
      "['158023', 'L. Messi', 31.0, 'Argentina', 94.0, 'FC Barcelona', '€110.5M', '€565K', 'Left', '10', \"5'7\", '159lbs']\n",
      "['20801', 'Cristiano Ronaldo', 33.0, 'Portugal', 94.0, 'Juventus', '€77M', '€405K', 'Right', '7', \"6'2\", '183lbs']\n",
      "['190871', 'Neymar Jr', 26.0, 'Brazil', 92.0, 'Paris Saint-Germain', '€118.5M', '€290K', 'Right', '10', \"5'9\", '150lbs']\n",
      "['193080', 'De Gea', 27.0, 'Spain', 91.0, 'Manchester United', '€72M', '€260K', 'Right', '1', \"6'4\", '168lbs']\n",
      "['192985', 'K. De Bruyne', 27.0, 'Belgium', 91.0, 'Manchester City', '€102M', '€355K', 'Right', '7', \"5'11\", '154lbs']\n"
     ]
    }
   ],
   "source": [
    "print(header)\n",
    "for row in player_data[:5]:\n",
    "    print(row)"
   ]
  },
  {
   "cell_type": "code",
   "execution_count": 3,
   "metadata": {},
   "outputs": [],
   "source": [
    "def money(raw_wage):\n",
    "    if raw_wage == '€ 0':\n",
    "        return 0\n",
    "    else:\n",
    "        wage = float(raw_wage.strip(raw_wage[-1]).strip(raw_wage[0]))\n",
    "        if raw_wage[-1] is 'K':\n",
    "            return wage * 1000\n",
    "        elif raw_wage[-1] is 'M':\n",
    "            return wage * 1000000\n",
    "        elif raw_wage[-1] is 'B':\n",
    "            return wage * 1000000000"
   ]
  },
  {
   "cell_type": "code",
   "execution_count": 4,
   "metadata": {},
   "outputs": [
    {
     "data": {
      "text/plain": [
       "'O. Pérez'"
      ]
     },
     "execution_count": 4,
     "metadata": {},
     "output_type": "execute_result"
    }
   ],
   "source": [
    "# oldest player in data\n",
    "oldest = None\n",
    "ages = {}\n",
    "for i in range(len(player_data)):\n",
    "    age = player_data[i][header.index('Age')]\n",
    "    name = player_data[i][header.index('Name')]\n",
    "    ages[name] = age\n",
    "\n",
    "for player in ages:\n",
    "    if oldest is None or ages[player] > ages[oldest]:\n",
    "        oldest = player\n",
    "oldest"
   ]
  },
  {
   "cell_type": "code",
   "execution_count": 5,
   "metadata": {},
   "outputs": [
    {
     "data": {
      "text/plain": [
       "'L. Messi'"
      ]
     },
     "execution_count": 5,
     "metadata": {},
     "output_type": "execute_result"
    }
   ],
   "source": [
    "# highest paid player in data\n",
    "highest_paid = None\n",
    "wages = {}\n",
    "for i in range(len(player_data)):\n",
    "    pay = money(player_data[i][header.index('Wage')])\n",
    "    name = player_data[i][header.index('Name')]\n",
    "    wages[name] = pay\n",
    "\n",
    "for player in wages:\n",
    "    if highest_paid is None or wages[player] > wages[highest_paid]:\n",
    "        highest_paid = player\n",
    "highest_paid"
   ]
  },
  {
   "cell_type": "code",
   "execution_count": 6,
   "metadata": {},
   "outputs": [
    {
     "data": {
      "text/plain": [
       "'Neymar Jr'"
      ]
     },
     "execution_count": 6,
     "metadata": {},
     "output_type": "execute_result"
    }
   ],
   "source": [
    "# highest valued player in data\n",
    "highest_val = None\n",
    "val = {}\n",
    "for i in range(len(player_data)):\n",
    "    value = money(player_data[i][header.index('Value')])\n",
    "    name = player_data[i][header.index('Name')]\n",
    "    val[name] = value\n",
    "\n",
    "for player in val:\n",
    "    if highest_val is None or val[player] > val[highest_val]:\n",
    "        highest_val = player\n",
    "highest_val"
   ]
  },
  {
   "cell_type": "code",
   "execution_count": 7,
   "metadata": {},
   "outputs": [
    {
     "data": {
      "text/plain": [
       "'Paris Saint-Germain'"
      ]
     },
     "execution_count": 7,
     "metadata": {},
     "output_type": "execute_result"
    }
   ],
   "source": [
    "# highest valued club in data\n",
    "for i in range(len(player_data)):\n",
    "    name = player_data[i][header.index('Name')]\n",
    "    club = player_data[i][header.index('Club')]\n",
    "    if name == highest_val:\n",
    "        highest_val_club = club\n",
    "highest_val_club"
   ]
  },
  {
   "cell_type": "code",
   "execution_count": 8,
   "metadata": {},
   "outputs": [],
   "source": [
    "def get_column(col_name):\n",
    "    \"\"\"Returns items in player_data of the specified column name\"\"\"\n",
    "    values = []\n",
    "    for i in range(len(player_data)):\n",
    "        col = player_data[i][header.index(col_name)]\n",
    "        values.append(col)\n",
    "    return values"
   ]
  },
  {
   "cell_type": "code",
   "execution_count": 9,
   "metadata": {},
   "outputs": [
    {
     "data": {
      "text/plain": [
       "['Argentina', 'Portugal', 'Brazil', 'Spain', 'Belgium']"
      ]
     },
     "execution_count": 9,
     "metadata": {},
     "output_type": "execute_result"
    }
   ],
   "source": [
    "# first five nationalities listed in data\n",
    "get_column('Nationality')[:5]\n"
   ]
  },
  {
   "cell_type": "code",
   "execution_count": 10,
   "metadata": {},
   "outputs": [
    {
     "data": {
      "text/plain": [
       "['A. Abang', 'A. Abdellaoui', 'A. Abdennour', 'A. Abdi', 'A. Abdu Jaber']"
      ]
     },
     "execution_count": 10,
     "metadata": {},
     "output_type": "execute_result"
    }
   ],
   "source": [
    "# first five players alphabetically in data\n",
    "names = get_column('Name')\n",
    "names.sort()\n",
    "names[:5]"
   ]
  },
  {
   "cell_type": "code",
   "execution_count": 11,
   "metadata": {},
   "outputs": [
    {
     "data": {
      "text/plain": [
       "2410695.8861976163"
      ]
     },
     "execution_count": 11,
     "metadata": {},
     "output_type": "execute_result"
    }
   ],
   "source": [
    "# avg value of players in data\n",
    "total = 0\n",
    "total_vals = get_column('Value')\n",
    "for i in range(len(total_vals)):\n",
    "    total += money(total_vals[i])\n",
    "avg_value = total / len(total_vals)\n",
    "avg_value"
   ]
  },
  {
   "cell_type": "code",
   "execution_count": 12,
   "metadata": {},
   "outputs": [
    {
     "data": {
      "text/plain": [
       "25.122205745043114"
      ]
     },
     "execution_count": 12,
     "metadata": {},
     "output_type": "execute_result"
    }
   ],
   "source": [
    "# avg age of players in data\n",
    "total = 0\n",
    "total_age = get_column('Age')\n",
    "for i in range(len(total_age)):\n",
    "    total += total_age[i]\n",
    "avg_value = total / len(total_age)\n",
    "avg_value"
   ]
  },
  {
   "cell_type": "code",
   "execution_count": 13,
   "metadata": {},
   "outputs": [],
   "source": [
    "\n",
    "def player_count(country):\n",
    "    \"\"\"Counts the number of players per country.\"\"\"\n",
    "    count = 0\n",
    "    nation = get_column('Nationality')\n",
    "    for i in range(len(nation)):\n",
    "        if nation[i] == country:\n",
    "            count += 1\n",
    "    return count"
   ]
  },
  {
   "cell_type": "code",
   "execution_count": 14,
   "metadata": {},
   "outputs": [
    {
     "data": {
      "text/plain": [
       "322"
      ]
     },
     "execution_count": 14,
     "metadata": {},
     "output_type": "execute_result"
    }
   ],
   "source": [
    "# number of players from Portugal\n",
    "player_count('Portugal')"
   ]
  },
  {
   "cell_type": "code",
   "execution_count": 15,
   "metadata": {},
   "outputs": [
    {
     "data": {
      "text/plain": [
       "827"
      ]
     },
     "execution_count": 15,
     "metadata": {},
     "output_type": "execute_result"
    }
   ],
   "source": [
    "# number of players from Brazil\n",
    "player_count('Brazil')"
   ]
  },
  {
   "cell_type": "code",
   "execution_count": 16,
   "metadata": {},
   "outputs": [
    {
     "data": {
      "text/plain": [
       "'England'"
      ]
     },
     "execution_count": 16,
     "metadata": {},
     "output_type": "execute_result"
    }
   ],
   "source": [
    "# country with the highest number of players in data\n",
    "nation_numbers = {}\n",
    "nation = get_column('Nationality')\n",
    "for i in range(len(nation)):\n",
    "    if nation[i] not in nation_numbers:\n",
    "        nation_numbers[nation[i]] = 1\n",
    "    else:\n",
    "        nation_numbers[nation[i]] += 1\n",
    "\n",
    "\n",
    "highest_num_players = None\n",
    "for i in nation_numbers:\n",
    "    if highest_num_players == None or nation_numbers[i] > nation_numbers[highest_num_players]:\n",
    "        highest_num_players = i\n",
    "highest_num_players"
   ]
  },
  {
   "cell_type": "code",
   "execution_count": 17,
   "metadata": {},
   "outputs": [],
   "source": [
    "def player_to_dict(ID):\n",
    "    \"\"\"Finds player using ID number and returns a dict of values\"\"\"\n",
    "    keys = header\n",
    "    player = {}\n",
    "    for i in range(len(player_data)):\n",
    "        if player_data[i][0] == ID:\n",
    "            vals = player_data[i]\n",
    "            for i in range(len(keys)):\n",
    "                player[keys[i]] = vals[i]\n",
    "    return player"
   ]
  },
  {
   "cell_type": "code",
   "execution_count": 18,
   "metadata": {},
   "outputs": [
    {
     "data": {
      "text/plain": [
       "{'Id': '20801',\n",
       " 'Name': 'Cristiano Ronaldo',\n",
       " 'Age': 33.0,\n",
       " 'Nationality': 'Portugal',\n",
       " 'Overall': 94.0,\n",
       " 'Club': 'Juventus',\n",
       " 'Value': '€77M',\n",
       " 'Wage': '€405K',\n",
       " 'Preferred Foot': 'Right',\n",
       " 'Jersey Number': '7',\n",
       " 'Height': \"6'2\",\n",
       " 'Weight': '183lbs'}"
      ]
     },
     "execution_count": 18,
     "metadata": {},
     "output_type": "execute_result"
    }
   ],
   "source": [
    "# returns a dict of player with the id 20801\n",
    "player_to_dict('20801')"
   ]
  },
  {
   "cell_type": "code",
   "execution_count": 19,
   "metadata": {},
   "outputs": [
    {
     "data": {
      "text/plain": [
       "{'Id': '190871',\n",
       " 'Name': 'Neymar Jr',\n",
       " 'Age': 26.0,\n",
       " 'Nationality': 'Brazil',\n",
       " 'Overall': 92.0,\n",
       " 'Club': 'Paris Saint-Germain',\n",
       " 'Value': '€118.5M',\n",
       " 'Wage': '€290K',\n",
       " 'Preferred Foot': 'Right',\n",
       " 'Jersey Number': '10',\n",
       " 'Height': \"5'9\",\n",
       " 'Weight': '150lbs'}"
      ]
     },
     "execution_count": 19,
     "metadata": {},
     "output_type": "execute_result"
    }
   ],
   "source": [
    "# returns a dict of player with the id 190871\n",
    "player_to_dict('190871')"
   ]
  },
  {
   "cell_type": "code",
   "execution_count": 20,
   "metadata": {},
   "outputs": [
    {
     "data": {
      "text/plain": [
       "{'Id': '158023',\n",
       " 'Name': 'L. Messi',\n",
       " 'Age': 31.0,\n",
       " 'Nationality': 'Argentina',\n",
       " 'Overall': 94.0,\n",
       " 'Club': 'FC Barcelona',\n",
       " 'Value': '€110.5M',\n",
       " 'Wage': '€565K',\n",
       " 'Preferred Foot': 'Left',\n",
       " 'Jersey Number': '10',\n",
       " 'Height': \"5'7\",\n",
       " 'Weight': '159lbs'}"
      ]
     },
     "execution_count": 20,
     "metadata": {},
     "output_type": "execute_result"
    }
   ],
   "source": [
    "# returns a dict of player with the id 158023\n",
    "player_to_dict('158023')"
   ]
  },
  {
   "cell_type": "code",
   "execution_count": 21,
   "metadata": {},
   "outputs": [
    {
     "data": {
      "text/plain": [
       "{'Id': '192985',\n",
       " 'Name': 'K. De Bruyne',\n",
       " 'Age': 27.0,\n",
       " 'Nationality': 'Belgium',\n",
       " 'Overall': 91.0,\n",
       " 'Club': 'Manchester City',\n",
       " 'Value': '€102M',\n",
       " 'Wage': '€355K',\n",
       " 'Preferred Foot': 'Right',\n",
       " 'Jersey Number': '7',\n",
       " 'Height': \"5'11\",\n",
       " 'Weight': '154lbs'}"
      ]
     },
     "execution_count": 21,
     "metadata": {},
     "output_type": "execute_result"
    }
   ],
   "source": [
    "# returns a dict of player with the id 192985\n",
    "player_to_dict('192985')"
   ]
  },
  {
   "cell_type": "code",
   "execution_count": 22,
   "metadata": {},
   "outputs": [
    {
     "data": {
      "text/plain": [
       "{'Argentina': 937,\n",
       " 'Portugal': 322,\n",
       " 'Brazil': 827,\n",
       " 'Spain': 1072,\n",
       " 'Belgium': 260,\n",
       " 'Croatia': 126,\n",
       " 'Uruguay': 149,\n",
       " 'Slovenia': 55,\n",
       " 'Poland': 350,\n",
       " 'Germany': 1198,\n",
       " 'France': 914,\n",
       " 'England': 1662,\n",
       " 'Italy': 702,\n",
       " 'Egypt': 31,\n",
       " 'Colombia': 618,\n",
       " 'Denmark': 336,\n",
       " 'Gabon': 15,\n",
       " 'Wales': 129,\n",
       " 'Senegal': 130,\n",
       " 'Costa Rica': 30,\n",
       " 'Slovakia': 54,\n",
       " 'Netherlands': 453,\n",
       " 'Bosnia Herzegovina': 61,\n",
       " 'Morocco': 85,\n",
       " 'Serbia': 126,\n",
       " 'Algeria': 60,\n",
       " 'Austria': 298,\n",
       " 'Greece': 102,\n",
       " 'Chile': 391,\n",
       " 'Sweden': 397,\n",
       " 'Korea Republic': 335,\n",
       " 'Finland': 67,\n",
       " 'Guinea': 31,\n",
       " 'Montenegro': 23,\n",
       " 'Armenia': 10,\n",
       " 'Switzerland': 220,\n",
       " 'Norway': 341,\n",
       " 'Czech Republic': 100,\n",
       " 'Scotland': 286,\n",
       " 'Ghana': 114,\n",
       " 'Central African Rep.': 3,\n",
       " 'DR Congo': 52,\n",
       " 'Ivory Coast': 100,\n",
       " 'Russia': 79,\n",
       " 'Ukraine': 73,\n",
       " 'Iceland': 47,\n",
       " 'Mexico': 366,\n",
       " 'Jamaica': 32,\n",
       " 'Albania': 40,\n",
       " 'Venezuela': 67,\n",
       " 'Japan': 478,\n",
       " 'Turkey': 303,\n",
       " 'Ecuador': 43,\n",
       " 'Paraguay': 85,\n",
       " 'Mali': 43,\n",
       " 'Nigeria': 121,\n",
       " 'Cameroon': 90,\n",
       " 'Dominican Republic': 2,\n",
       " 'Israel': 14,\n",
       " 'Kenya': 10,\n",
       " 'Hungary': 38,\n",
       " 'Republic of Ireland': 368,\n",
       " 'Romania': 54,\n",
       " 'United States': 353,\n",
       " 'Cape Verde': 19,\n",
       " 'Australia': 236,\n",
       " 'Peru': 37,\n",
       " 'Togo': 12,\n",
       " 'Syria': 9,\n",
       " 'Zimbabwe': 13,\n",
       " 'Angola': 15,\n",
       " 'Burkina Faso': 16,\n",
       " 'Iran': 17,\n",
       " 'Estonia': 13,\n",
       " 'Tunisia': 32,\n",
       " 'Equatorial Guinea': 5,\n",
       " 'New Zealand': 44,\n",
       " 'FYR Macedonia': 20,\n",
       " 'United Arab Emirates': 1,\n",
       " 'China PR': 392,\n",
       " 'Guinea Bissau': 15,\n",
       " 'Bulgaria': 32,\n",
       " 'Kosovo': 33,\n",
       " 'South Africa': 71,\n",
       " 'Madagascar': 12,\n",
       " 'Georgia': 26,\n",
       " 'Tanzania': 3,\n",
       " 'Gambia': 15,\n",
       " 'Cuba': 4,\n",
       " 'Belarus': 4,\n",
       " 'Uzbekistan': 2,\n",
       " 'Benin': 15,\n",
       " 'Congo': 25,\n",
       " 'Mozambique': 4,\n",
       " 'Honduras': 16,\n",
       " 'Canada': 64,\n",
       " 'Northern Ireland': 80,\n",
       " 'Cyprus': 8,\n",
       " 'Saudi Arabia': 340,\n",
       " 'Curacao': 14,\n",
       " 'Moldova': 5,\n",
       " 'Bolivia': 30,\n",
       " 'Trinidad & Tobago': 4,\n",
       " 'Sierra Leone': 6,\n",
       " 'Zambia': 9,\n",
       " 'Chad': 2,\n",
       " 'Philippines': 2,\n",
       " 'Haiti': 10,\n",
       " 'Comoros': 6,\n",
       " 'Libya': 4,\n",
       " 'Panama': 15,\n",
       " 'São Tomé & Príncipe': 1,\n",
       " 'Eritrea': 2,\n",
       " 'Oman': 1,\n",
       " 'Iraq': 7,\n",
       " 'Burundi': 3,\n",
       " 'Fiji': 1,\n",
       " 'New Caledonia': 1,\n",
       " 'Lithuania': 8,\n",
       " 'Luxembourg': 8,\n",
       " 'Korea DPR': 4,\n",
       " 'Liechtenstein': 3,\n",
       " 'St Kitts Nevis': 3,\n",
       " 'Latvia': 6,\n",
       " 'Suriname': 4,\n",
       " 'Uganda': 6,\n",
       " 'El Salvador': 5,\n",
       " 'Bermuda': 2,\n",
       " 'Kuwait': 1,\n",
       " 'Antigua & Barbuda': 4,\n",
       " 'Thailand': 5,\n",
       " 'Mauritius': 1,\n",
       " 'Guatemala': 3,\n",
       " 'Liberia': 1,\n",
       " 'Kazakhstan': 4,\n",
       " 'Niger': 3,\n",
       " 'Mauritania': 4,\n",
       " 'Montserrat': 4,\n",
       " 'Namibia': 3,\n",
       " 'Azerbaijan': 5,\n",
       " 'Guam': 1,\n",
       " 'Faroe Islands': 6,\n",
       " 'India': 30,\n",
       " 'Nicaragua': 2,\n",
       " 'Barbados': 3,\n",
       " 'Lebanon': 1,\n",
       " 'Palestine': 1,\n",
       " 'Guyana': 3,\n",
       " 'Sudan': 3,\n",
       " 'St Lucia': 1,\n",
       " 'Ethiopia': 1,\n",
       " 'Puerto Rico': 1,\n",
       " 'Grenada': 1,\n",
       " 'Jordan': 1,\n",
       " 'Rwanda': 1,\n",
       " 'Qatar': 1,\n",
       " 'Afghanistan': 4,\n",
       " 'Hong Kong': 2,\n",
       " 'Andorra': 1,\n",
       " 'Malta': 1,\n",
       " 'Belize': 1,\n",
       " 'South Sudan': 1,\n",
       " 'Indonesia': 1,\n",
       " 'Botswana': 1}"
      ]
     },
     "execution_count": 22,
     "metadata": {},
     "output_type": "execute_result"
    }
   ],
   "source": [
    "# number of players from each country\n",
    "nation_numbers = {}\n",
    "nation = get_column('Nationality')\n",
    "for i in range(len(nation)):\n",
    "    if nation[i] not in nation_numbers:\n",
    "        nation_numbers[nation[i]] = 1\n",
    "    else:\n",
    "        nation_numbers[nation[i]] += 1\n",
    "nation_numbers"
   ]
  },
  {
   "cell_type": "code",
   "execution_count": 23,
   "metadata": {},
   "outputs": [
    {
     "data": {
      "text/plain": [
       "{'10': 593,\n",
       " '7': 604,\n",
       " '1': 566,\n",
       " '9': 577,\n",
       " '15': 501,\n",
       " '8': 612,\n",
       " '21': 536,\n",
       " '13': 419,\n",
       " '22': 531,\n",
       " '5': 579,\n",
       " '3': 547,\n",
       " '14': 542,\n",
       " '12': 390,\n",
       " '11': 590,\n",
       " '2': 519,\n",
       " '23': 546,\n",
       " '26': 390,\n",
       " '6': 586,\n",
       " '17': 554,\n",
       " '18': 545,\n",
       " '4': 573,\n",
       " '19': 545,\n",
       " '31': 280,\n",
       " '25': 409,\n",
       " '37': 135,\n",
       " '30': 371,\n",
       " '44': 74,\n",
       " '29': 358,\n",
       " '24': 425,\n",
       " '20': 568,\n",
       " '16': 517,\n",
       " '33': 287,\n",
       " '28': 357,\n",
       " '27': 423,\n",
       " '77': 77,\n",
       " '47': 28,\n",
       " '38': 102,\n",
       " '40': 114,\n",
       " '92': 10,\n",
       " '36': 145,\n",
       " '87': 14,\n",
       " '34': 207,\n",
       " '32': 250,\n",
       " '83': 6,\n",
       " '70': 29,\n",
       " '35': 183,\n",
       " '89': 15,\n",
       " '56': 17,\n",
       " '99': 70,\n",
       " '57': 8,\n",
       " '91': 21,\n",
       " '86': 4,\n",
       " '45': 47,\n",
       " '63': 4,\n",
       " '39': 107,\n",
       " '43': 41,\n",
       " '42': 54,\n",
       " '93': 14,\n",
       " '72': 7,\n",
       " '71': 10,\n",
       " '88': 44,\n",
       " '55': 35,\n",
       " '80': 16,\n",
       " '50': 42,\n",
       " '66': 27,\n",
       " '60': 10,\n",
       " '73': 6,\n",
       " '67': 5,\n",
       " '74': 2,\n",
       " '69': 6,\n",
       " '76': 4,\n",
       " '41': 53,\n",
       " '90': 26,\n",
       " '46': 29,\n",
       " '75': 6,\n",
       " '79': 2,\n",
       " '62': 6,\n",
       " '81': 5,\n",
       " '61': 7,\n",
       " '49': 19,\n",
       " '95': 12,\n",
       " '53': 11,\n",
       " '96': 13,\n",
       " '97': 16,\n",
       " '68': 4,\n",
       " '98': 21,\n",
       " '94': 11,\n",
       " '58': 5,\n",
       " '78': 5,\n",
       " '': 60,\n",
       " '48': 17,\n",
       " '52': 10,\n",
       " '54': 11,\n",
       " '84': 4,\n",
       " '82': 5,\n",
       " '65': 4,\n",
       " '64': 2,\n",
       " '51': 7,\n",
       " '59': 5,\n",
       " '85': 1}"
      ]
     },
     "execution_count": 23,
     "metadata": {},
     "output_type": "execute_result"
    }
   ],
   "source": [
    "# number of players by jersey number\n",
    "jersey_numbers = {}\n",
    "jersey = get_column('Jersey Number')\n",
    "for i in range(len(jersey)):\n",
    "    if jersey[i] not in jersey_numbers:\n",
    "        jersey_numbers[jersey[i]] = 1\n",
    "    else:\n",
    "        jersey_numbers[jersey[i]] += 1\n",
    "jersey_numbers"
   ]
  },
  {
   "cell_type": "code",
   "execution_count": 24,
   "metadata": {},
   "outputs": [
    {
     "data": {
      "text/plain": [
       "{'10': 70.38617200674537,\n",
       " '7': 68.87251655629139,\n",
       " '1': 68.35689045936395,\n",
       " '9': 69.28769497400347,\n",
       " '15': 66.53493013972056,\n",
       " '8': 68.83006535947712,\n",
       " '21': 66.2723880597015,\n",
       " '13': 66.90214797136038,\n",
       " '22': 66.31638418079096,\n",
       " '5': 68.49740932642487,\n",
       " '3': 67.38939670932358,\n",
       " '14': 66.9870848708487,\n",
       " '12': 65.43076923076923,\n",
       " '11': 68.3406779661017,\n",
       " '2': 67.58766859344894,\n",
       " '23': 66.46886446886447,\n",
       " '26': 64.04358974358975,\n",
       " '6': 68.19283276450511,\n",
       " '17': 66.9115523465704,\n",
       " '18': 66.45688073394496,\n",
       " '4': 67.76614310645724,\n",
       " '19': 66.63669724770642,\n",
       " '31': 63.06785714285714,\n",
       " '25': 64.59413202933985,\n",
       " '37': 61.785185185185185,\n",
       " '30': 63.1644204851752,\n",
       " '44': 64.70270270270271,\n",
       " '29': 63.92178770949721,\n",
       " '24': 64.65411764705883,\n",
       " '20': 66.7306338028169,\n",
       " '16': 66.08510638297872,\n",
       " '33': 63.29965156794425,\n",
       " '28': 63.943977591036415,\n",
       " '27': 64.36170212765957,\n",
       " '77': 66.1038961038961,\n",
       " '47': 63.57142857142857,\n",
       " '38': 61.77450980392157,\n",
       " '40': 61.51754385964912,\n",
       " '92': 68.9,\n",
       " '36': 60.5448275862069,\n",
       " '87': 68.35714285714286,\n",
       " '34': 62.072463768115945,\n",
       " '32': 62.152,\n",
       " '83': 67.66666666666667,\n",
       " '70': 64.72413793103448,\n",
       " '35': 60.92896174863388,\n",
       " '89': 65.4,\n",
       " '56': 65.11764705882354,\n",
       " '99': 64.35714285714286,\n",
       " '57': 68.125,\n",
       " '91': 66.76190476190476,\n",
       " '86': 64.0,\n",
       " '45': 62.0,\n",
       " '63': 69.0,\n",
       " '39': 62.52336448598131,\n",
       " '43': 60.048780487804876,\n",
       " '42': 62.5,\n",
       " '93': 67.28571428571429,\n",
       " '72': 65.0,\n",
       " '71': 64.5,\n",
       " '88': 66.5,\n",
       " '55': 63.0,\n",
       " '80': 63.4375,\n",
       " '50': 62.30952380952381,\n",
       " '66': 63.77777777777778,\n",
       " '60': 64.1,\n",
       " '73': 64.33333333333333,\n",
       " '67': 64.6,\n",
       " '74': 67.5,\n",
       " '69': 68.66666666666667,\n",
       " '76': 68.0,\n",
       " '41': 61.37735849056604,\n",
       " '90': 65.61538461538461,\n",
       " '46': 60.206896551724135,\n",
       " '75': 66.5,\n",
       " '79': 71.5,\n",
       " '62': 62.0,\n",
       " '81': 65.0,\n",
       " '61': 61.57142857142857,\n",
       " '49': 59.68421052631579,\n",
       " '95': 65.25,\n",
       " '53': 62.45454545454545,\n",
       " '96': 64.53846153846153,\n",
       " '97': 62.4375,\n",
       " '68': 67.0,\n",
       " '98': 60.904761904761905,\n",
       " '94': 66.72727272727273,\n",
       " '58': 62.8,\n",
       " '78': 65.6,\n",
       " '': 61.63333333333333,\n",
       " '48': 61.470588235294116,\n",
       " '52': 61.8,\n",
       " '54': 61.0,\n",
       " '84': 63.75,\n",
       " '82': 59.8,\n",
       " '65': 58.5,\n",
       " '64': 62.5,\n",
       " '51': 58.0,\n",
       " '59': 57.2,\n",
       " '85': 57.0}"
      ]
     },
     "execution_count": 24,
     "metadata": {},
     "output_type": "execute_result"
    }
   ],
   "source": [
    "# average rating of players for each jersey number\n",
    "jersey = get_column('Jersey Number')\n",
    "rating = get_column('Overall')\n",
    "jersey_numbers #denominator\n",
    "jersey_rating_totals = {}\n",
    "result = {}\n",
    "for i in range(len(jersey)):\n",
    "    if jersey[i] not in jersey_rating_totals:\n",
    "        jersey_rating_totals[jersey[i]] = rating[i]\n",
    "    else:\n",
    "        jersey_rating_totals[jersey[i]] += rating[i]\n",
    "\n",
    "for i in jersey_rating_totals:\n",
    "    result[i] = jersey_rating_totals[i] / jersey_numbers[i]\n",
    "result"
   ]
  },
  {
   "cell_type": "code",
   "execution_count": 25,
   "metadata": {},
   "outputs": [
    {
     "data": {
      "text/plain": [
       "'79'"
      ]
     },
     "execution_count": 25,
     "metadata": {},
     "output_type": "execute_result"
    }
   ],
   "source": [
    "# jersey number with the highest avg rating\n",
    "result\n",
    "highest_avg_rating = None\n",
    "for i in result:\n",
    "    if highest_avg_rating == None or result[i] > result[highest_avg_rating]:\n",
    "        highest_avg_rating = i\n",
    "highest_avg_rating"
   ]
  },
  {
   "cell_type": "code",
   "execution_count": 26,
   "metadata": {},
   "outputs": [
    {
     "data": {
      "text/plain": [
       "'Real Madrid'"
      ]
     },
     "execution_count": 26,
     "metadata": {},
     "output_type": "execute_result"
    }
   ],
   "source": [
    "# club with the highest avg wage\n",
    "clubs = {}\n",
    "club = get_column('Club')\n",
    "for i in range(len(club)):\n",
    "    if club[i] not in clubs:\n",
    "        clubs[club[i]] = 1\n",
    "    else:\n",
    "        clubs[club[i]] += 1\n",
    "\n",
    "wage = get_column('Wage')\n",
    "clubs #denominator\n",
    "club_wage_totals = {}\n",
    "highest_wages = {}\n",
    "for i in range(len(club)):\n",
    "    if club[i] not in club_wage_totals:\n",
    "        club_wage_totals[club[i]] = money(wage[i])\n",
    "    else:\n",
    "        club_wage_totals[club[i]] += money(wage[i])\n",
    "\n",
    "for i in club_wage_totals:\n",
    "    highest_wages[i] = club_wage_totals[i] / clubs[i]\n",
    "highest_wages\n",
    "\n",
    "highest_avg_wage = None\n",
    "for i in highest_wages:\n",
    "    if highest_avg_wage == None or highest_wages[i] > highest_wages[highest_avg_wage]:\n",
    "        highest_avg_wage = i\n",
    "highest_avg_wage"
   ]
  },
  {
   "cell_type": "code",
   "execution_count": null,
   "metadata": {},
   "outputs": [],
   "source": []
  }
 ],
 "metadata": {
  "kernelspec": {
   "display_name": "Python 3",
   "language": "python",
   "name": "python3"
  },
  "language_info": {
   "codemirror_mode": {
    "name": "ipython",
    "version": 3
   },
   "file_extension": ".py",
   "mimetype": "text/x-python",
   "name": "python",
   "nbconvert_exporter": "python",
   "pygments_lexer": "ipython3",
   "version": "3.7.4"
  }
 },
 "nbformat": 4,
 "nbformat_minor": 2
}
